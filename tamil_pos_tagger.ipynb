{
  "cells": [
    {
      "cell_type": "code",
      "execution_count": 20,
      "metadata": {},
      "outputs": [],
      "source": [
        "import re\n",
        "from nltk.corpus.reader.indian import IndianCorpusView\n",
        "import numpy as np\n",
        "dataset = IndianCorpusView('Official-Docs-Data.txt','utf-8', True, True,)\n",
        "data=[]\n",
        "\n",
        "with dataset as lines:\n",
        "    for line in lines:\n",
        "        data.append(line)\n"
      ]
    },
    {
      "cell_type": "markdown",
      "metadata": {},
      "source": [
        "# data preprocessing"
      ]
    },
    {
      "cell_type": "code",
      "execution_count": 21,
      "metadata": {},
      "outputs": [],
      "source": [
        "\n",
        "sentence=[]\n",
        "tags=[]\n",
        "temp_sentence=[]\n",
        "temp_tag=[]\n",
        "tag_finder=\"[A-Z]+\" \n",
        "word_finder='[^A-Z]+'\n",
        "for word in data:\n",
        "  # print(word[0][0])\n",
        "  if word==[]:#eliminating the empty list\n",
        "    continue\n",
        "  else:\n",
        "    tag=re.findall(tag_finder,word[0][0])\n",
        "    word=re.findall(word_finder,word[0][0])\n",
        "    if tag[0]==\"NUM\": #condition for finding the end of the sentence\n",
        "      if temp_sentence==['-'] or []:\n",
        "        temp_sentence=[]\n",
        "        temp_tag=[]\n",
        "        continue\n",
        "      sentence.append(temp_sentence)\n",
        "      tags.append(temp_tag)\n",
        "      temp_sentence=[]\n",
        "      temp_tag=[]\n",
        "    else:\n",
        "      temp_sentence.append(word[0][0:len(word[0])-1])\n",
        "      temp_tag.append(tag[0])\n",
        "    # print(tag,word)"
      ]
    },
    {
      "cell_type": "code",
      "execution_count": 22,
      "metadata": {},
      "outputs": [],
      "source": [
        "from nltk import flatten\n",
        "temp_tags=flatten(tags)\n",
        "unique_tags=[]\n",
        "for tag in temp_tags:\n",
        "    if tag in unique_tags:\n",
        "        pass\n",
        "    else:\n",
        "        if tag != []:#eliminating the empty tags\n",
        "            unique_tags.append(tag)\n",
        "        else:\n",
        "            pass"
      ]
    },
    {
      "cell_type": "code",
      "execution_count": 23,
      "metadata": {},
      "outputs": [],
      "source": [
        "index=[]\n",
        "for x in unique_tags:\n",
        "    for y in unique_tags:\n",
        "        index.append((x,y))"
      ]
    },
    {
      "cell_type": "markdown",
      "metadata": {},
      "source": [
        "#### calculating transition probability"
      ]
    },
    {
      "cell_type": "code",
      "execution_count": 24,
      "metadata": {},
      "outputs": [],
      "source": [
        "\n",
        "#find how likely a tag is followed by another\n",
        "#denominator\n",
        "from collections import defaultdict\n",
        "tag_counter=defaultdict(int)\n",
        "tag_counts={}\n",
        "all_tags=flatten(tags)\n",
        "for unique in unique_tags:\n",
        "    for tag in all_tags:\n",
        "        if unique==tag:\n",
        "            tag_counter[unique]\n",
        "            tag_counter[unique]+=1"
      ]
    },
    {
      "cell_type": "code",
      "execution_count": 25,
      "metadata": {},
      "outputs": [],
      "source": [
        "# numerator\n",
        "i=0\n",
        "while i<len(temp_tags):\n",
        "    # print(temp_tags[i])\n",
        "    i+=1"
      ]
    },
    {
      "cell_type": "code",
      "execution_count": 26,
      "metadata": {},
      "outputs": [],
      "source": [
        "numerator=defaultdict(int)\n",
        "for i in index:\n",
        "    # print(i[0],i[1])\n",
        "    j=0\n",
        "    while j<len(temp_tags):\n",
        "        try:\n",
        "            if temp_tags[j]==i[0] and temp_tags[j+1]==i[1]:\n",
        "                # print(temp_tags[j],temp_tags[j+1])\n",
        "                numerator[i]+=1\n",
        "            j+=1\n",
        "        except IndexError:\n",
        "            j+=1\n",
        "            pass"
      ]
    },
    {
      "cell_type": "code",
      "execution_count": 27,
      "metadata": {},
      "outputs": [],
      "source": [
        "transition_table=defaultdict(float)\n",
        "for cell in index:\n",
        "    # print(cell)\n",
        "    # print(numerator[cell])\n",
        "    # print(tag_counter[cell[0]])\n",
        "    transition_table[cell]=numerator[cell]/tag_counter[cell[0]] "
      ]
    },
    {
      "cell_type": "markdown",
      "metadata": {},
      "source": [
        "#### calculating emission probability"
      ]
    },
    {
      "cell_type": "code",
      "execution_count": 28,
      "metadata": {},
      "outputs": [],
      "source": [
        "\n",
        "words=[]\n",
        "temp_word=[]\n",
        "tag_finder=\"[A-Z]+\" \n",
        "word_finder='[^A-Z]+'\n",
        "for word in data:\n",
        "  # print(word[0][0])\n",
        "  if word==[]:#eliminating the empty list\n",
        "    continue\n",
        "  else:\n",
        "    tag=re.findall(tag_finder,word[0][0])\n",
        "    word=re.findall(word_finder,word[0][0])\n",
        "    if tag[0]==\"NUM\": #condition for finding the end of the sentence\n",
        "      if temp_sentence==['-'] or []:\n",
        "        temp_word=[]\n",
        "        continue\n",
        "      words.append(temp_word)\n",
        "      temp_word=[]\n",
        "    else:\n",
        "      temp_word.append((word[0][0:len(word[0])-1],tag[0]))\n",
        "\n",
        "    # print(tag,word)"
      ]
    },
    {
      "cell_type": "code",
      "execution_count": 29,
      "metadata": {},
      "outputs": [],
      "source": [
        "comb=defaultdict(int)\n",
        "for word in words:\n",
        "    ele=0\n",
        "    while ele<len(word):\n",
        "        # print(word[ele])\n",
        "        comb[word[ele]]+=1\n",
        "        ele+=1"
      ]
    },
    {
      "cell_type": "code",
      "execution_count": 30,
      "metadata": {},
      "outputs": [],
      "source": [
        "emission_prob=defaultdict(float)\n",
        "for key,values in comb.items():\n",
        "    emission_prob[key]=values/tag_counter[key[1]]"
      ]
    },
    {
      "cell_type": "markdown",
      "metadata": {},
      "source": [
        "checking how many words has more than one tag in the dataset"
      ]
    },
    {
      "cell_type": "code",
      "execution_count": 31,
      "metadata": {},
      "outputs": [],
      "source": [
        "unique_words=[]\n",
        "for word in words:\n",
        "    ele=0\n",
        "    while ele<len(word):\n",
        "        if word[ele][0] not in unique_words:\n",
        "            unique_words.append(word[ele][0])\n",
        "        ele+=1"
      ]
    },
    {
      "cell_type": "code",
      "execution_count": 32,
      "metadata": {},
      "outputs": [],
      "source": [
        "\n",
        "word_tag=[]\n",
        "temp_sentence=[]\n",
        "tag_finder=\"[A-Z]+\" \n",
        "word_finder='[^A-Z]+'\n",
        "for word in data:\n",
        "  # print(word[0][0])\n",
        "  if word==[]:#eliminating the empty list\n",
        "    continue\n",
        "  else:\n",
        "    tag=re.findall(tag_finder,word[0][0])\n",
        "    word=re.findall(word_finder,word[0][0])\n",
        "    if tag[0]==\"NUM\": #condition for finding the end of the sentence\n",
        "      if temp_sentence==['-'] or []:\n",
        "        continue\n",
        "    else:\n",
        "      word_tag.append((word[0][0:len(word[0])-1],tag[0]))\n",
        "    # print(tag,word)"
      ]
    },
    {
      "cell_type": "code",
      "execution_count": 33,
      "metadata": {},
      "outputs": [],
      "source": [
        "temp1=defaultdict(list)\n",
        "for word in unique_words:\n",
        "    # print(word)\n",
        "    for comb in word_tag:\n",
        "        if comb[0]==word:\n",
        "            if comb[1] not in temp1[word]:\n",
        "                temp1[word].append(comb[1])"
      ]
    },
    {
      "cell_type": "markdown",
      "metadata": {},
      "source": [
        "# Tagging"
      ]
    },
    {
      "cell_type": "code",
      "execution_count": 34,
      "metadata": {},
      "outputs": [],
      "source": [
        "#tokenize every word \n",
        "#find all possible tags for each word\n",
        "#calculate transition and emission prob\n",
        "#product(transistion and emision) and select its best"
      ]
    },
    {
      "cell_type": "code",
      "execution_count": 35,
      "metadata": {},
      "outputs": [
        {
          "name": "stdout",
          "output_type": "stream",
          "text": [
            "['ஜனவரி', 'டிசம்பர்', 'மாதம்', 'வரையில்', 'பின்வரும்', 'கூட்டங்கள்', 'நடாத்தப்பட்டன']\n",
            "['PROPN' 'PROPN' 'NOUN' 'ADP' 'ADJ' 'NOUN' 'VERB']\n"
          ]
        }
      ],
      "source": [
        "import copy\n",
        "temp=defaultdict(list)\n",
        "def seq_gen(tagged):\n",
        "    only_tag=[]\n",
        "    for key,values in tagged.items(): # makes only one run\n",
        "        only_tag.append(values)\n",
        "    cp_only_tag = copy.deepcopy(only_tag)\n",
        "    #find lengthy tag\n",
        "    length=0\n",
        "    for i in only_tag:\n",
        "        if len(i)>length:\n",
        "            length=len(i)\n",
        "    for i in only_tag:\n",
        "        if len(i)<length:\n",
        "            n=length-len(i)\n",
        "            for j in range(n):\n",
        "                i.append(0)\n",
        "    initial_combo=[]\n",
        "    for i in range(length):\n",
        "        for j in only_tag:\n",
        "            initial_combo.append(j[i])\n",
        "    initial_combo=flatten(initial_combo)\n",
        "    initial_combo=np.array(initial_combo).reshape(length,len(tagged))\n",
        "    for combo in initial_combo:\n",
        "        if '0' in combo:\n",
        "            # print(combo)\n",
        "            for tag in range(len(combo)):\n",
        "                if combo[tag]=='0':\n",
        "                    possible_tags=cp_only_tag[tag]\n",
        "                    # print(\"missing tag position\",tag,\"possible tags are\",cp_only_tag[tag])\n",
        "                    if len(possible_tags)==1: #if the possible tag is only one \n",
        "                        combo[tag]=cp_only_tag[tag][0]\n",
        "                    else:\n",
        "                        pass\n",
        "    # print(initial_combo)\n",
        "    return initial_combo\n",
        "\n",
        "def prob_calc(sequence,ip):\n",
        "    # print(sequence,ip)\n",
        "    transition=[]\n",
        "    for i in sequence:\n",
        "        trans=[]\n",
        "        for j in range(len(i)):\n",
        "            try:\n",
        "                trans.append((i[j],i[j+1]))\n",
        "            except IndexError:\n",
        "                pass\n",
        "        transition.append(trans)\n",
        "    for i in range(len(transition)):\n",
        "        for j in range(len(transition[i])):\n",
        "            # print(i,j)\n",
        "            # print(transition[i][j])\n",
        "            # print(transition_table[transition[i][j]])\n",
        "            transition[i][j]=transition_table[transition[i][j]]\n",
        "    \n",
        "    emis=[]\n",
        "    for i in sequence:\n",
        "        t=[]\n",
        "        new=zip(ip,i)\n",
        "        for j in new:\n",
        "            # print(j)\n",
        "            t.append(j)\n",
        "        emis.append(t)\n",
        "    for i in range(len(emis)):\n",
        "        for j in range(len(emis[i])):\n",
        "            # print(i,j)\n",
        "            # print(emis[i][j])\n",
        "            # print(emission_prob[emis[i][j]])\n",
        "            emis[i][j]=emission_prob[emis[i][j]]\n",
        "    return emis,transition\n",
        "\n",
        "def best_finder(transition,emision):\n",
        "    final=[]\n",
        "    for i in range(len(transition)):\n",
        "        # print(transition[i])\n",
        "        transition[i]=np.prod(transition[i])\n",
        "    for i in range(len(emision)):\n",
        "        # print(emision[i])\n",
        "        emision[i]=np.prod(emision[i])\n",
        "    for i in range(len(transition)):\n",
        "        final.append(transition[i]*emision[i])\n",
        "    return final.index(max(final))    \n",
        "def tagger(ip):\n",
        "    ip=ip.split(\" \")\n",
        "    ###for finding different tags that a word can take\n",
        "    for word in ip:\n",
        "        # print(word)\n",
        "        for i in words:\n",
        "            ele=0\n",
        "            while ele<len(i):\n",
        "                # print(i[ele])\n",
        "                if word==i[ele][0]: # finding word match\n",
        "                    if i[ele][1] not in temp[word]:\n",
        "                        temp[word].append(i[ele][1])\n",
        "                ele+=1\n",
        "    # print(\"\\n The possible tags that can be taken by the words in the sentence :\\n \",temp)\n",
        "    sequence=seq_gen(temp)\n",
        "    # print(\"\\n The possible tags that the given sentence can have is \\n\",sequence)\n",
        "    # print(type(sequence))\n",
        "    # print(sequence.shape)\n",
        "    # print(sequence,ip)\n",
        "    # print(type(sequence),type(ip))\n",
        "    emision,transition=prob_calc(sequence,ip)\n",
        "    best=best_finder(transition,emision)\n",
        "    # print(\"best\",best)\n",
        "    print(ip)\n",
        "    print(sequence[best])\n",
        "    \n",
        "tagger(\"ஜனவரி டிசம்பர் மாதம் வரையில் பின்வரும் கூட்டங்கள் நடாத்தப்பட்டன\")\n"
      ]
    }
  ],
  "metadata": {
    "colab": {
      "collapsed_sections": [],
      "name": "tamil_pos_tagger.ipynb",
      "provenance": []
    },
    "kernelspec": {
      "display_name": "Python 3",
      "name": "python3"
    },
    "language_info": {
      "codemirror_mode": {
        "name": "ipython",
        "version": 3
      },
      "file_extension": ".py",
      "mimetype": "text/x-python",
      "name": "python",
      "nbconvert_exporter": "python",
      "pygments_lexer": "ipython3",
      "version": "3.8.11"
    }
  },
  "nbformat": 4,
  "nbformat_minor": 0
}
